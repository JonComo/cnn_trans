{
 "cells": [
  {
   "cell_type": "code",
   "execution_count": 1,
   "metadata": {
    "collapsed": true
   },
   "outputs": [],
   "source": [
    "%matplotlib inline"
   ]
  },
  {
   "cell_type": "code",
   "execution_count": 2,
   "metadata": {
    "collapsed": true
   },
   "outputs": [],
   "source": [
    "from matplotlib import pyplot as plt\n",
    "import numpy as np\n",
    "import tensorflow as tf\n",
    "from IPython.display import clear_output\n",
    "from ipywidgets import interact\n",
    "from tensorflow.examples.tutorials.mnist import input_data"
   ]
  },
  {
   "cell_type": "code",
   "execution_count": 6,
   "metadata": {
    "collapsed": false
   },
   "outputs": [
    {
     "name": "stdout",
     "output_type": "stream",
     "text": [
      "Extracting ./../../data/images/mnist/train-images-idx3-ubyte.gz\n",
      "Extracting ./../../data/images/mnist/train-labels-idx1-ubyte.gz\n",
      "Extracting ./../../data/images/mnist/t10k-images-idx3-ubyte.gz\n",
      "Extracting ./../../data/images/mnist/t10k-labels-idx1-ubyte.gz\n"
     ]
    }
   ],
   "source": [
    "data = input_data.read_data_sets('./../../data/images/mnist/', one_hot=True)"
   ]
  },
  {
   "cell_type": "code",
   "execution_count": 8,
   "metadata": {
    "collapsed": false
   },
   "outputs": [],
   "source": [
    "TRAIN = 55000\n",
    "TEST = 10000\n",
    "IMG = 64"
   ]
  },
  {
   "cell_type": "code",
   "execution_count": 9,
   "metadata": {
    "collapsed": false
   },
   "outputs": [
    {
     "name": "stdout",
     "output_type": "stream",
     "text": [
      "8: [ 0.  0.  0.  0.  0.  0.  0.  0.  1.  0.]\n"
     ]
    },
    {
     "data": {
      "image/png": "[encoded data removed]",
      "text/plain": [
       "<matplotlib.figure.Figure at 0x7fdabea1e7d0>"
      ]
     },
     "metadata": {},
     "output_type": "display_data"
    }
   ],
   "source": [
    "def embed_img(digit):\n",
    "    # Place image in random position\n",
    "    img = np.zeros((IMG, IMG), dtype=np.float32)\n",
    "    i, j = np.random.randint(IMG-28), np.random.randint(IMG-28)\n",
    "    img[i:i+28,j:j+28] = digit\n",
    "    \n",
    "    return img\n",
    "\n",
    "def random_pair():\n",
    "    idx = np.random.randint(TRAIN)\n",
    "    digit = data.train.images[idx].reshape((28,28))\n",
    "    label = data.train.labels[idx].astype(np.float32)\n",
    "    \n",
    "    # Place image in random position\n",
    "    img = embed_img(digit)\n",
    "    \n",
    "    return img, label\n",
    "\n",
    "def random_test_pair():\n",
    "    idx = np.random.randint(TEST)\n",
    "    digit = data.test.images[idx].reshape((28,28))\n",
    "    label = data.test.labels[idx].astype(np.float32)\n",
    "    \n",
    "    # Place image in random position\n",
    "    img = np.zeros((IMG, IMG), dtype=np.float32)\n",
    "    i, j = np.random.randint(IMG-28), np.random.randint(IMG-28)\n",
    "    img[i:i+28,j:j+28] = digit\n",
    "    \n",
    "    return img, label\n",
    "\n",
    "def random_batch(batch):\n",
    "    batch_imgs = []\n",
    "    batch_labels = []\n",
    "    for i in range(batch):\n",
    "        img, label = random_pair()\n",
    "        img = img.reshape(IMG ** 2)\n",
    "        label = label.reshape(10)\n",
    "        batch_imgs.append(img)\n",
    "        batch_labels.append(label)\n",
    "    return np.array(batch_imgs), np.array(batch_labels)\n",
    "    \n",
    "img, label = random_pair()\n",
    "\n",
    "print('{}: {}'.format(np.argmax(label), label))\n",
    "f = plt.imshow(img, cmap='gray')"
   ]
  },
  {
   "cell_type": "code",
   "execution_count": 10,
   "metadata": {
    "collapsed": false
   },
   "outputs": [],
   "source": [
    "def weight_variable(shape):\n",
    "    initial = tf.truncated_normal(shape, stddev=0.1)\n",
    "    return tf.Variable(initial)\n",
    "\n",
    "def bias_variable(shape):\n",
    "    initial = tf.constant(0.1, shape=shape)\n",
    "    return tf.Variable(initial)\n",
    "\n",
    "def conv2d(x, W):\n",
    "    return tf.nn.conv2d(x, W, strides=[1, 1, 1, 1], padding='SAME')\n",
    "\n",
    "def max_pool_2x2(x):\n",
    "    return tf.nn.max_pool(x, ksize=[1, 2, 2, 1], strides=[1, 2, 2, 1], padding='SAME')\n",
    "\n",
    "x = tf.placeholder(tf.float32, (None, IMG ** 2))\n",
    "y_ = tf.placeholder(tf.float32, (None, 10))\n",
    "\n",
    "W_conv1 = weight_variable([5, 5, 1, 32])\n",
    "b_conv1 = bias_variable([32])\n",
    "\n",
    "x_image = tf.reshape(x, (-1, IMG, IMG, 1))\n",
    "\n",
    "h_conv1 = tf.nn.relu(conv2d(x_image, W_conv1) + b_conv1)\n",
    "h_pool1 = max_pool_2x2(h_conv1)\n",
    "\n",
    "W_conv2 = weight_variable([5, 5, 32, 64])\n",
    "b_conv2 = bias_variable([64])\n",
    "\n",
    "h_conv2 = tf.nn.relu(conv2d(h_conv1, W_conv2) + b_conv2)\n",
    "h_pool2 = max_pool_2x2(h_conv2)\n",
    "\n",
    "\n",
    "# Fully connected layer\n",
    "\n",
    "W_fc1 = weight_variable([32 * 32 * 64, 1024])\n",
    "b_fc1 = bias_variable([1024])\n",
    "\n",
    "h_pool2_flat = tf.reshape(h_pool2, [-1, 32 * 32 * 64])\n",
    "h_fc1 = tf.nn.relu(tf.matmul(h_pool2_flat, W_fc1) + b_fc1)\n",
    "\n",
    "keep_prob = tf.placeholder(tf.float32)\n",
    "h_fc1_drop = tf.nn.dropout(h_fc1, keep_prob)\n",
    "\n",
    "W_fc2 = weight_variable([1024, 10])\n",
    "b_fc2 = bias_variable([10])\n",
    "\n",
    "y_conv = tf.nn.softmax(tf.matmul(h_fc1_drop, W_fc2) + b_fc2)\n",
    "\n",
    "cross_entropy = tf.reduce_mean(-tf.reduce_sum(y_ * tf.log(y_conv), reduction_indices=[1]))\n",
    "\n",
    "train = tf.train.AdamOptimizer(1e-4).minimize(cross_entropy)\n",
    "correct_prediction = tf.equal(tf.argmax(y_conv,1), tf.argmax(y_,1))\n",
    "accuracy = tf.reduce_mean(tf.cast(correct_prediction, tf.float32))"
   ]
  },
  {
   "cell_type": "code",
   "execution_count": 11,
   "metadata": {
    "collapsed": false
   },
   "outputs": [],
   "source": [
    "if 'session' in globals():\n",
    "    session.close()\n",
    "    \n",
    "session = tf.InteractiveSession()\n",
    "session.run(tf.initialize_all_variables())"
   ]
  },
  {
   "cell_type": "code",
   "execution_count": 15,
   "metadata": {
    "collapsed": false
   },
   "outputs": [
    {
     "name": "stdout",
     "output_type": "stream",
     "text": [
      "restored\n"
     ]
    }
   ],
   "source": [
    "# restore\n",
    "\n",
    "saver = tf.train.Saver()\n",
    "saver.restore(session, './cnn_translational_inv.ckpt')\n",
    "print('restored')"
   ]
  },
  {
   "cell_type": "code",
   "execution_count": 39,
   "metadata": {
    "collapsed": false
   },
   "outputs": [
    {
     "name": "stdout",
     "output_type": "stream",
     "text": [
      "step 0, training accuracy 0.3\n",
      "step 100, training accuracy 0.28\n",
      "step 200, training accuracy 0.24\n",
      "step 300, training accuracy 0.3\n",
      "step 400, training accuracy 0.44\n",
      "step 500, training accuracy 0.22\n",
      "step 600, training accuracy 0.28\n",
      "step 700, training accuracy 0.36\n",
      "step 800, training accuracy 0.5\n",
      "step 900, training accuracy 0.4\n",
      "step 1000, training accuracy 0.38\n",
      "step 1100, training accuracy 0.46\n",
      "step 1200, training accuracy 0.5\n",
      "step 1300, training accuracy 0.54\n",
      "step 1400, training accuracy 0.6\n",
      "step 1500, training accuracy 0.72\n",
      "step 1600, training accuracy 0.64\n",
      "step 1700, training accuracy 0.52\n",
      "step 1800, training accuracy 0.72\n",
      "step 1900, training accuracy 0.64\n",
      "step 2000, training accuracy 0.78\n",
      "step 2100, training accuracy 0.82\n",
      "step 2200, training accuracy 0.84\n",
      "step 2300, training accuracy 0.78\n",
      "step 2400, training accuracy 0.86\n",
      "step 2500, training accuracy 0.84\n",
      "step 2600, training accuracy 0.7\n",
      "step 2700, training accuracy 0.86\n",
      "step 2800, training accuracy 0.74\n",
      "step 2900, training accuracy 0.8\n",
      "step 3000, training accuracy 0.88\n",
      "step 3100, training accuracy 0.94\n",
      "step 3200, training accuracy 0.86\n",
      "step 3300, training accuracy 0.82\n",
      "step 3400, training accuracy 0.8\n",
      "step 3500, training accuracy 0.92\n",
      "step 3600, training accuracy 0.9\n",
      "step 3700, training accuracy 0.9\n",
      "step 3800, training accuracy 0.86\n",
      "step 3900, training accuracy 0.88\n",
      "step 4000, training accuracy 0.86\n",
      "step 4100, training accuracy 0.94\n",
      "step 4200, training accuracy 0.94\n",
      "step 4300, training accuracy 0.9\n",
      "step 4400, training accuracy 0.9\n",
      "step 4500, training accuracy 0.9\n",
      "step 4600, training accuracy 0.98\n",
      "step 4700, training accuracy 0.88\n",
      "step 4800, training accuracy 0.92\n",
      "step 4900, training accuracy 0.92\n",
      "step 5000, training accuracy 0.88\n",
      "step 5100, training accuracy 0.94\n",
      "step 5200, training accuracy 0.9\n",
      "step 5300, training accuracy 0.9\n",
      "step 5400, training accuracy 0.92\n",
      "step 5500, training accuracy 0.92\n",
      "step 5600, training accuracy 0.88\n",
      "step 5700, training accuracy 0.88\n",
      "step 5800, training accuracy 0.96\n",
      "step 5900, training accuracy 0.92\n",
      "step 6000, training accuracy 0.9\n",
      "step 6100, training accuracy 0.92\n",
      "step 6200, training accuracy 0.94\n",
      "step 6300, training accuracy 0.92\n",
      "step 6400, training accuracy 0.92\n",
      "step 6500, training accuracy 0.96\n",
      "step 6600, training accuracy 0.9\n",
      "step 6700, training accuracy 0.96\n",
      "step 6800, training accuracy 0.96\n",
      "step 6900, training accuracy 0.98\n",
      "step 7000, training accuracy 0.96\n",
      "step 7100, training accuracy 0.96\n",
      "step 7200, training accuracy 0.96\n",
      "step 7300, training accuracy 0.96\n",
      "step 7400, training accuracy 0.98\n",
      "step 7500, training accuracy 0.96\n",
      "step 7600, training accuracy 0.92\n",
      "step 7700, training accuracy 0.92\n",
      "step 7800, training accuracy 0.96\n",
      "step 7900, training accuracy 1\n",
      "step 8000, training accuracy 0.96\n",
      "step 8100, training accuracy 0.96\n",
      "step 8200, training accuracy 0.9\n",
      "step 8300, training accuracy 0.98\n",
      "step 8400, training accuracy 1\n",
      "step 8500, training accuracy 0.96\n",
      "step 8600, training accuracy 0.96\n",
      "step 8700, training accuracy 0.94\n",
      "step 8800, training accuracy 0.94\n",
      "step 8900, training accuracy 0.98\n",
      "step 9000, training accuracy 0.94\n",
      "step 9100, training accuracy 0.96\n",
      "step 9200, training accuracy 0.96\n",
      "step 9300, training accuracy 0.98\n",
      "step 9400, training accuracy 0.84\n",
      "step 9500, training accuracy 0.94\n",
      "step 9600, training accuracy 0.86\n",
      "step 9700, training accuracy 0.92\n",
      "step 9800, training accuracy 0.92\n",
      "step 9900, training accuracy 0.94\n",
      "step 10000, training accuracy 0.98\n",
      "step 10100, training accuracy 0.96\n",
      "step 10200, training accuracy 0.94\n",
      "step 10300, training accuracy 1\n",
      "step 10400, training accuracy 0.94\n",
      "step 10500, training accuracy 0.98\n",
      "step 10600, training accuracy 0.92\n",
      "step 10700, training accuracy 0.94\n",
      "step 10800, training accuracy 0.98\n",
      "step 10900, training accuracy 0.96\n",
      "step 11000, training accuracy 0.98\n",
      "step 11100, training accuracy 0.94\n",
      "step 11200, training accuracy 0.98\n",
      "step 11300, training accuracy 0.96\n",
      "step 11400, training accuracy 0.94\n",
      "step 11500, training accuracy 0.94\n",
      "step 11600, training accuracy 1\n",
      "step 11700, training accuracy 0.9\n",
      "step 11800, training accuracy 1\n",
      "step 11900, training accuracy 1\n",
      "step 12000, training accuracy 0.98\n",
      "step 12100, training accuracy 1\n",
      "step 12200, training accuracy 0.94\n",
      "step 12300, training accuracy 0.9\n",
      "step 12400, training accuracy 0.98\n",
      "step 12500, training accuracy 0.96\n",
      "step 12600, training accuracy 0.94\n",
      "step 12700, training accuracy 0.96\n",
      "step 12800, training accuracy 0.92\n",
      "step 12900, training accuracy 0.94\n",
      "step 13000, training accuracy 0.98\n",
      "step 13100, training accuracy 0.96\n",
      "step 13200, training accuracy 0.96\n",
      "step 13300, training accuracy 0.98\n",
      "step 13400, training accuracy 0.94\n",
      "step 13500, training accuracy 1\n",
      "step 13600, training accuracy 0.94\n",
      "step 13700, training accuracy 0.92\n",
      "step 13800, training accuracy 0.94\n",
      "step 13900, training accuracy 1\n",
      "step 14000, training accuracy 0.98\n",
      "step 14100, training accuracy 0.9\n",
      "step 14200, training accuracy 0.98\n",
      "step 14300, training accuracy 0.94\n",
      "step 14400, training accuracy 0.96\n",
      "step 14500, training accuracy 0.94\n",
      "step 14600, training accuracy 0.98\n",
      "step 14700, training accuracy 0.98\n",
      "step 14800, training accuracy 0.94\n",
      "step 14900, training accuracy 0.96\n",
      "step 15000, training accuracy 0.98\n",
      "step 15100, training accuracy 0.94\n",
      "step 15200, training accuracy 0.98\n",
      "step 15300, training accuracy 0.96\n",
      "step 15400, training accuracy 1\n",
      "step 15500, training accuracy 0.96\n",
      "step 15600, training accuracy 0.94\n",
      "step 15700, training accuracy 0.98\n",
      "step 15800, training accuracy 0.94\n",
      "step 15900, training accuracy 1\n",
      "step 16000, training accuracy 0.98\n",
      "step 16100, training accuracy 0.98\n",
      "step 16200, training accuracy 0.94\n",
      "step 16300, training accuracy 0.94\n",
      "step 16400, training accuracy 0.94\n",
      "step 16500, training accuracy 0.98\n",
      "step 16600, training accuracy 1\n",
      "step 16700, training accuracy 0.94\n",
      "step 16800, training accuracy 0.96\n",
      "step 16900, training accuracy 0.98\n",
      "step 17000, training accuracy 1\n",
      "step 17100, training accuracy 0.96\n",
      "step 17200, training accuracy 0.98\n",
      "step 17300, training accuracy 1\n",
      "step 17400, training accuracy 1\n",
      "step 17500, training accuracy 1\n",
      "step 17600, training accuracy 0.96\n",
      "step 17700, training accuracy 0.98\n",
      "step 17800, training accuracy 0.98\n",
      "step 17900, training accuracy 0.96\n",
      "step 18000, training accuracy 1\n",
      "step 18100, training accuracy 0.96\n",
      "step 18200, training accuracy 0.98\n",
      "step 18300, training accuracy 0.98\n",
      "step 18400, training accuracy 1\n",
      "step 18500, training accuracy 0.9\n",
      "step 18600, training accuracy 1\n",
      "step 18700, training accuracy 0.96\n",
      "step 18800, training accuracy 0.94\n",
      "step 18900, training accuracy 1\n",
      "step 19000, training accuracy 0.88\n",
      "step 19100, training accuracy 0.96\n",
      "step 19200, training accuracy 1\n",
      "step 19300, training accuracy 0.96\n",
      "step 19400, training accuracy 0.98\n",
      "step 19500, training accuracy 0.98\n",
      "step 19600, training accuracy 0.98\n",
      "step 19700, training accuracy 0.98\n",
      "step 19800, training accuracy 0.96\n",
      "step 19900, training accuracy 0.94\n"
     ]
    }
   ],
   "source": [
    "# train\n",
    "\n",
    "for i in range(20000):\n",
    "    batch_i, batch_l = random_batch(50)\n",
    "    \n",
    "    if i%100 == 0:\n",
    "        train_accuracy = accuracy.eval(feed_dict={x: batch_i, y_: batch_l, keep_prob: 1.0})\n",
    "        print(\"step %d, training accuracy %g\"%(i, train_accuracy))\n",
    "        \n",
    "    train.run(feed_dict={x: batch_i, y_: batch_l, keep_prob: 0.5})"
   ]
  },
  {
   "cell_type": "code",
   "execution_count": 41,
   "metadata": {
    "collapsed": false
   },
   "outputs": [
    {
     "data": {
      "text/plain": [
       "'./cnn_translational_inv.ckpt'"
      ]
     },
     "execution_count": 41,
     "metadata": {},
     "output_type": "execute_result"
    }
   ],
   "source": [
    "# save weights\n",
    "\n",
    "saver = tf.train.Saver()\n",
    "saver.save(session, './cnn_translational_inv.ckpt')"
   ]
  },
  {
   "cell_type": "code",
   "execution_count": 16,
   "metadata": {
    "collapsed": false
   },
   "outputs": [
    {
     "data": {
      "image/png": "[encoded data removed]",
      "text/plain": [
       "<matplotlib.figure.Figure at 0x7fda6c4c0310>"
      ]
     },
     "metadata": {},
     "output_type": "display_data"
    }
   ],
   "source": [
    "def vis_wc1(i):\n",
    "    plt.imshow(W_conv2.eval()[:,:,0,i], interpolation='nearest', cmap=plt.cm.gray)\n",
    "    \n",
    "interact(vis_wc1, i=(0,31,1))"
   ]
  },
  {
   "cell_type": "code",
   "execution_count": 31,
   "metadata": {
    "collapsed": false
   },
   "outputs": [
    {
     "name": "stdout",
     "output_type": "stream",
     "text": [
      "label: 1 y_conv: 1\n"
     ]
    },
    {
     "data": {
      "image/png": "[encoded data removed]",
      "text/plain": [
       "<matplotlib.figure.Figure at 0x7fdaa32cc550>"
      ]
     },
     "metadata": {},
     "output_type": "display_data"
    }
   ],
   "source": [
    "img, label = random_test_pair()\n",
    "\n",
    "out = y_conv.eval(feed_dict={x: [img.reshape(IMG**2)], keep_prob: 1.0})\n",
    "\n",
    "print('label: {} y_conv: {}'.format(np.argmax(label), np.argmax(out)))\n",
    "f = plt.imshow(img, cmap='gray')"
   ]
  },
  {
   "cell_type": "code",
   "execution_count": 32,
   "metadata": {
    "collapsed": false
   },
   "outputs": [
    {
     "name": "stdout",
     "output_type": "stream",
     "text": [
      "test accuracy 0.973\n"
     ]
    }
   ],
   "source": [
    "# Randomly translate each image in the test data and get accuracy\n",
    "\n",
    "test_batch = []\n",
    "test_labels = []\n",
    "for i in range(2000):\n",
    "    digit = data.test.images[i].reshape(28, 28)\n",
    "    \n",
    "    img = embed_img(digit).reshape(IMG**2)\n",
    "    test_batch.append(img)\n",
    "    test_labels.append(data.test.labels[i])\n",
    "\n",
    "\n",
    "    \n",
    "print(\"test accuracy %g\"%accuracy.eval(feed_dict={x: test_batch, y_: test_labels, keep_prob: 1.0}))"
   ]
  },
  {
   "cell_type": "code",
   "execution_count": 33,
   "metadata": {
    "collapsed": false
   },
   "outputs": [
    {
     "name": "stdout",
     "output_type": "stream",
     "text": [
      "(5, 5, 1, 32)\n"
     ]
    },
    {
     "data": {
      "image/png": "[encoded data removed]",
      "text/plain": [
       "<matplotlib.figure.Figure at 0x7fda6c1a2210>"
      ]
     },
     "metadata": {},
     "output_type": "display_data"
    }
   ],
   "source": [
    "# Visualize all kernels at a certain level\n",
    "\n",
    "def visualize_W(W):\n",
    "    print(W.shape)\n",
    "    side = int(np.ceil(W.shape[0] * np.sqrt(W.shape[3]))) + 1\n",
    "    img = np.zeros((side, side))\n",
    "    k = W.shape[0]\n",
    "    \n",
    "    io, jo = 0, 0\n",
    "    for i in range(W.shape[3]):\n",
    "        img[io:io+k,jo:jo+k] = W[:,:,0,i]\n",
    "        io += k\n",
    "        if io > img.shape[0]-k:\n",
    "            io = 0\n",
    "            jo += k\n",
    "            \n",
    "    plt.imshow(img, interpolation='nearest', cmap=plt.cm.gray)\n",
    "    \n",
    "visualize_W(W_conv1.eval())"
   ]
  },
  {
   "cell_type": "code",
   "execution_count": null,
   "metadata": {
    "collapsed": true
   },
   "outputs": [],
   "source": []
  },
  {
   "cell_type": "code",
   "execution_count": null,
   "metadata": {
    "collapsed": true
   },
   "outputs": [],
   "source": []
  },
  {
   "cell_type": "code",
   "execution_count": null,
   "metadata": {
    "collapsed": true
   },
   "outputs": [],
   "source": []
  },
  {
   "cell_type": "code",
   "execution_count": null,
   "metadata": {
    "collapsed": true
   },
   "outputs": [],
   "source": []
  }
 ],
 "metadata": {
  "kernelspec": {
   "display_name": "Python 2",
   "language": "python",
   "name": "python2"
  },
  "language_info": {
   "codemirror_mode": {
    "name": "ipython",
    "version": 2
   },
   "file_extension": ".py",
   "mimetype": "text/x-python",
   "name": "python",
   "nbconvert_exporter": "python",
   "pygments_lexer": "ipython2",
   "version": "2.7.11"
  }
 },
 "nbformat": 4,
 "nbformat_minor": 0
}
